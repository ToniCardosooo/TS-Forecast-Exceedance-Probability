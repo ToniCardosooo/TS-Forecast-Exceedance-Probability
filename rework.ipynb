{
 "cells": [
  {
   "cell_type": "code",
   "execution_count": 1,
   "metadata": {},
   "outputs": [
    {
     "name": "stdout",
     "output_type": "stream",
     "text": [
      "['constant',\n",
      " 'exchange_rate',\n",
      " 'solar-energy',\n",
      " 'electricity',\n",
      " 'traffic',\n",
      " 'exchange_rate_nips',\n",
      " 'electricity_nips',\n",
      " 'traffic_nips',\n",
      " 'solar_nips',\n",
      " 'wiki2000_nips',\n",
      " 'wiki-rolling_nips',\n",
      " 'taxi_30min',\n",
      " 'kaggle_web_traffic_with_missing',\n",
      " 'kaggle_web_traffic_without_missing',\n",
      " 'kaggle_web_traffic_weekly',\n",
      " 'm1_yearly',\n",
      " 'm1_quarterly',\n",
      " 'm1_monthly',\n",
      " 'nn5_daily_with_missing',\n",
      " 'nn5_daily_without_missing',\n",
      " 'nn5_weekly',\n",
      " 'tourism_monthly',\n",
      " 'tourism_quarterly',\n",
      " 'tourism_yearly',\n",
      " 'cif_2016',\n",
      " 'london_smart_meters_without_missing',\n",
      " 'wind_farms_without_missing',\n",
      " 'car_parts_without_missing',\n",
      " 'dominick',\n",
      " 'fred_md',\n",
      " 'pedestrian_counts',\n",
      " 'hospital',\n",
      " 'covid_deaths',\n",
      " 'kdd_cup_2018_without_missing',\n",
      " 'weather',\n",
      " 'm3_monthly',\n",
      " 'm3_quarterly',\n",
      " 'm3_yearly',\n",
      " 'm3_other',\n",
      " 'm4_hourly',\n",
      " 'm4_daily',\n",
      " 'm4_weekly',\n",
      " 'm4_monthly',\n",
      " 'm4_quarterly',\n",
      " 'm4_yearly',\n",
      " 'm5',\n",
      " 'uber_tlc_daily',\n",
      " 'uber_tlc_hourly',\n",
      " 'airpassengers',\n",
      " 'australian_electricity_demand',\n",
      " 'electricity_hourly',\n",
      " 'electricity_weekly',\n",
      " 'rideshare_without_missing',\n",
      " 'saugeenday',\n",
      " 'solar_10_minutes',\n",
      " 'solar_weekly',\n",
      " 'sunspot_without_missing',\n",
      " 'temperature_rain_without_missing',\n",
      " 'vehicle_trips_without_missing',\n",
      " 'ercot',\n",
      " 'ett_small_15min',\n",
      " 'ett_small_1h']\n"
     ]
    },
    {
     "name": "stderr",
     "output_type": "stream",
     "text": [
      "/home/tonicardoso/anaconda3/envs/investigacao/lib/python3.11/site-packages/gluonts/json.py:102: UserWarning: Using `json`-module for json-handling. Consider installing one of `orjson`, `ujson` to speed up serialization and deserialization.\n",
      "  warnings.warn(\n"
     ]
    }
   ],
   "source": [
    "from codebase.load_data.gluonts import GluontsDataset\n",
    "from codebase.load_data.m3 import M3Dataset\n",
    "from codebase.load_data.tourism import TourismDataset\n",
    "\n",
    "import pandas as pd"
   ]
  },
  {
   "cell_type": "code",
   "execution_count": 2,
   "metadata": {},
   "outputs": [
    {
     "name": "stderr",
     "output_type": "stream",
     "text": [
      "INFO:root:downloading and processing car_parts_without_missing\n",
      "Download car_parts_dataset_without_missing_values.zip:: 40.0kB [00:00, 61.2kB/s]\n",
      "/home/tonicardoso/anaconda3/envs/investigacao/lib/python3.11/site-packages/gluonts/dataset/repository/_tsf_datasets.py:290: FutureWarning: 'M' is deprecated and will be removed in a future version, please use 'ME' instead.\n",
      "  freq = to_offset(freq).name\n",
      "creating json files: 100%|██████████| 2674/2674 [00:00<00:00, 107541.10it/s]\n"
     ]
    }
   ],
   "source": [
    "df = GluontsDataset.load_data(\"car_parts_without_missing\")"
   ]
  },
  {
   "cell_type": "code",
   "execution_count": 3,
   "metadata": {},
   "outputs": [
    {
     "data": {
      "text/html": [
       "<div>\n",
       "<style scoped>\n",
       "    .dataframe tbody tr th:only-of-type {\n",
       "        vertical-align: middle;\n",
       "    }\n",
       "\n",
       "    .dataframe tbody tr th {\n",
       "        vertical-align: top;\n",
       "    }\n",
       "\n",
       "    .dataframe thead th {\n",
       "        text-align: right;\n",
       "    }\n",
       "</style>\n",
       "<table border=\"1\" class=\"dataframe\">\n",
       "  <thead>\n",
       "    <tr style=\"text-align: right;\">\n",
       "      <th></th>\n",
       "      <th>unique_id</th>\n",
       "      <th>ds</th>\n",
       "      <th>y</th>\n",
       "    </tr>\n",
       "  </thead>\n",
       "  <tbody>\n",
       "    <tr>\n",
       "      <th>0</th>\n",
       "      <td>ID0</td>\n",
       "      <td>1998-01-31</td>\n",
       "      <td>0.0</td>\n",
       "    </tr>\n",
       "    <tr>\n",
       "      <th>1</th>\n",
       "      <td>ID0</td>\n",
       "      <td>1998-02-28</td>\n",
       "      <td>0.0</td>\n",
       "    </tr>\n",
       "    <tr>\n",
       "      <th>2</th>\n",
       "      <td>ID0</td>\n",
       "      <td>1998-03-31</td>\n",
       "      <td>0.0</td>\n",
       "    </tr>\n",
       "    <tr>\n",
       "      <th>3</th>\n",
       "      <td>ID0</td>\n",
       "      <td>1998-04-30</td>\n",
       "      <td>0.0</td>\n",
       "    </tr>\n",
       "    <tr>\n",
       "      <th>4</th>\n",
       "      <td>ID0</td>\n",
       "      <td>1998-05-31</td>\n",
       "      <td>0.0</td>\n",
       "    </tr>\n",
       "    <tr>\n",
       "      <th>...</th>\n",
       "      <td>...</td>\n",
       "      <td>...</td>\n",
       "      <td>...</td>\n",
       "    </tr>\n",
       "    <tr>\n",
       "      <th>104281</th>\n",
       "      <td>ID2673</td>\n",
       "      <td>2000-11-30</td>\n",
       "      <td>2.0</td>\n",
       "    </tr>\n",
       "    <tr>\n",
       "      <th>104282</th>\n",
       "      <td>ID2673</td>\n",
       "      <td>2000-12-31</td>\n",
       "      <td>0.0</td>\n",
       "    </tr>\n",
       "    <tr>\n",
       "      <th>104283</th>\n",
       "      <td>ID2673</td>\n",
       "      <td>2001-01-31</td>\n",
       "      <td>2.0</td>\n",
       "    </tr>\n",
       "    <tr>\n",
       "      <th>104284</th>\n",
       "      <td>ID2673</td>\n",
       "      <td>2001-02-28</td>\n",
       "      <td>3.0</td>\n",
       "    </tr>\n",
       "    <tr>\n",
       "      <th>104285</th>\n",
       "      <td>ID2673</td>\n",
       "      <td>2001-03-31</td>\n",
       "      <td>0.0</td>\n",
       "    </tr>\n",
       "  </tbody>\n",
       "</table>\n",
       "<p>104286 rows × 3 columns</p>\n",
       "</div>"
      ],
      "text/plain": [
       "       unique_id         ds    y\n",
       "0            ID0 1998-01-31  0.0\n",
       "1            ID0 1998-02-28  0.0\n",
       "2            ID0 1998-03-31  0.0\n",
       "3            ID0 1998-04-30  0.0\n",
       "4            ID0 1998-05-31  0.0\n",
       "...          ...        ...  ...\n",
       "104281    ID2673 2000-11-30  2.0\n",
       "104282    ID2673 2000-12-31  0.0\n",
       "104283    ID2673 2001-01-31  2.0\n",
       "104284    ID2673 2001-02-28  3.0\n",
       "104285    ID2673 2001-03-31  0.0\n",
       "\n",
       "[104286 rows x 3 columns]"
      ]
     },
     "execution_count": 3,
     "metadata": {},
     "output_type": "execute_result"
    }
   ],
   "source": [
    "df"
   ]
  },
  {
   "cell_type": "code",
   "execution_count": 5,
   "metadata": {},
   "outputs": [
    {
     "name": "stdout",
     "output_type": "stream",
     "text": [
      "39 39\n"
     ]
    }
   ],
   "source": [
    "small = 1000000000\n",
    "large = -1000000000\n",
    "\n",
    "for i in range(0, df['unique_id'].nunique()):\n",
    "    small = min(small, len(df[df['unique_id']==f\"ID{i}\"]))\n",
    "    large = max(large, len(df[df['unique_id']==f\"ID{i}\"]))\n",
    "\n",
    "print(small, large)"
   ]
  }
 ],
 "metadata": {
  "kernelspec": {
   "display_name": "investigacao",
   "language": "python",
   "name": "python3"
  },
  "language_info": {
   "codemirror_mode": {
    "name": "ipython",
    "version": 3
   },
   "file_extension": ".py",
   "mimetype": "text/x-python",
   "name": "python",
   "nbconvert_exporter": "python",
   "pygments_lexer": "ipython3",
   "version": "3.11.9"
  }
 },
 "nbformat": 4,
 "nbformat_minor": 2
}
