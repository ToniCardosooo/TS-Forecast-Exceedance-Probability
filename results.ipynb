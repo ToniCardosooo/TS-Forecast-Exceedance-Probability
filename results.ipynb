{
 "cells": [
  {
   "cell_type": "code",
   "execution_count": 1,
   "metadata": {},
   "outputs": [],
   "source": [
    "import pandas as pd\n",
    "import matplotlib.pyplot as plt"
   ]
  },
  {
   "cell_type": "code",
   "execution_count": 2,
   "metadata": {},
   "outputs": [],
   "source": [
    "#smape_results = \"empirical_analysis/M3_Monthly_MQLoss/smape_M3_Monthly_MQLoss.csv\"\n",
    "#smape_results = \"empirical_analysis/M3_Monthly_DistributionLoss/smape_M3_Monthly_DistributionLoss.csv\"\n",
    "smape_results = \"TourismDataset_Monthly_MQLoss/smape_TourismDataset_Monthly_MQLoss.csv\""
   ]
  },
  {
   "cell_type": "code",
   "execution_count": 3,
   "metadata": {},
   "outputs": [
    {
     "data": {
      "image/png": "[encoded data removed]",
      "text/plain": [
       "<Figure size 2500x500 with 5 Axes>"
      ]
     },
     "metadata": {},
     "output_type": "display_data"
    }
   ],
   "source": [
    "smape_df = pd.read_csv(smape_results)\n",
    "\n",
    "models_names = list(smape_df.columns[1:])\n",
    "\n",
    "fig, ax = plt.subplots(1, len(models_names), figsize=(len(models_names)*5, 5))\n",
    "\n",
    "for i, model_name in enumerate(models_names):\n",
    "    ax[i].boxplot(smape_df[model_name], showfliers=True)\n",
    "    ax[i].set_title(model_name)\n",
    "    ax[i].set_ylim((0, 1.0))\n",
    "\n",
    "plt.show()"
   ]
  },
  {
   "cell_type": "code",
   "execution_count": 4,
   "metadata": {},
   "outputs": [],
   "source": [
    "#auc_logloss_results = \"M3_Monthly_MQLoss/auc_logloss_percentiles_M3_Monthly_MQLoss.csv\"\n",
    "#auc_logloss_results = \"M3_Monthly_DistributionLoss/auc_logloss_percentiles_M3_Monthly_DistributionLoss.csv\"\n",
    "auc_logloss_results = \"TourismDataset_Monthly_MQLoss/auc_logloss_percentiles_TourismDataset_Monthly_MQLoss.csv\""
   ]
  },
  {
   "cell_type": "code",
   "execution_count": 5,
   "metadata": {},
   "outputs": [
    {
     "data": {
      "text/html": [
       "<div>\n",
       "<style scoped>\n",
       "    .dataframe tbody tr th:only-of-type {\n",
       "        vertical-align: middle;\n",
       "    }\n",
       "\n",
       "    .dataframe tbody tr th {\n",
       "        vertical-align: top;\n",
       "    }\n",
       "\n",
       "    .dataframe thead th {\n",
       "        text-align: right;\n",
       "    }\n",
       "</style>\n",
       "<table border=\"1\" class=\"dataframe\">\n",
       "  <thead>\n",
       "    <tr style=\"text-align: right;\">\n",
       "      <th></th>\n",
       "      <th>Model_Percentile</th>\n",
       "      <th>AUC</th>\n",
       "      <th>LogLoss</th>\n",
       "    </tr>\n",
       "  </thead>\n",
       "  <tbody>\n",
       "    <tr>\n",
       "      <th>0</th>\n",
       "      <td>SeasonalNaive_90</td>\n",
       "      <td>0.504897</td>\n",
       "      <td>11.641180</td>\n",
       "    </tr>\n",
       "    <tr>\n",
       "      <th>1</th>\n",
       "      <td>AutoMLP_90</td>\n",
       "      <td>0.502407</td>\n",
       "      <td>10.618778</td>\n",
       "    </tr>\n",
       "    <tr>\n",
       "      <th>2</th>\n",
       "      <td>AutoNHITS_90</td>\n",
       "      <td>0.501924</td>\n",
       "      <td>9.758365</td>\n",
       "    </tr>\n",
       "    <tr>\n",
       "      <th>3</th>\n",
       "      <td>AutoLSTM_90</td>\n",
       "      <td>0.501477</td>\n",
       "      <td>9.631432</td>\n",
       "    </tr>\n",
       "    <tr>\n",
       "      <th>4</th>\n",
       "      <td>AutoGRU_90</td>\n",
       "      <td>0.501181</td>\n",
       "      <td>8.186884</td>\n",
       "    </tr>\n",
       "    <tr>\n",
       "      <th>5</th>\n",
       "      <td>SeasonalNaive_95</td>\n",
       "      <td>0.482431</td>\n",
       "      <td>10.925591</td>\n",
       "    </tr>\n",
       "    <tr>\n",
       "      <th>6</th>\n",
       "      <td>AutoMLP_95</td>\n",
       "      <td>0.482091</td>\n",
       "      <td>9.098119</td>\n",
       "    </tr>\n",
       "    <tr>\n",
       "      <th>7</th>\n",
       "      <td>AutoNHITS_95</td>\n",
       "      <td>0.479221</td>\n",
       "      <td>8.552409</td>\n",
       "    </tr>\n",
       "    <tr>\n",
       "      <th>8</th>\n",
       "      <td>AutoLSTM_95</td>\n",
       "      <td>0.477825</td>\n",
       "      <td>8.385068</td>\n",
       "    </tr>\n",
       "    <tr>\n",
       "      <th>9</th>\n",
       "      <td>AutoGRU_95</td>\n",
       "      <td>0.478768</td>\n",
       "      <td>6.903548</td>\n",
       "    </tr>\n",
       "    <tr>\n",
       "      <th>10</th>\n",
       "      <td>SeasonalNaive_99</td>\n",
       "      <td>0.501240</td>\n",
       "      <td>8.399820</td>\n",
       "    </tr>\n",
       "    <tr>\n",
       "      <th>11</th>\n",
       "      <td>AutoMLP_99</td>\n",
       "      <td>0.505439</td>\n",
       "      <td>5.219015</td>\n",
       "    </tr>\n",
       "    <tr>\n",
       "      <th>12</th>\n",
       "      <td>AutoNHITS_99</td>\n",
       "      <td>0.500580</td>\n",
       "      <td>5.379732</td>\n",
       "    </tr>\n",
       "    <tr>\n",
       "      <th>13</th>\n",
       "      <td>AutoLSTM_99</td>\n",
       "      <td>0.502851</td>\n",
       "      <td>5.200952</td>\n",
       "    </tr>\n",
       "    <tr>\n",
       "      <th>14</th>\n",
       "      <td>AutoGRU_99</td>\n",
       "      <td>0.501416</td>\n",
       "      <td>4.123983</td>\n",
       "    </tr>\n",
       "  </tbody>\n",
       "</table>\n",
       "</div>"
      ],
      "text/plain": [
       "    Model_Percentile       AUC    LogLoss\n",
       "0   SeasonalNaive_90  0.504897  11.641180\n",
       "1         AutoMLP_90  0.502407  10.618778\n",
       "2       AutoNHITS_90  0.501924   9.758365\n",
       "3        AutoLSTM_90  0.501477   9.631432\n",
       "4         AutoGRU_90  0.501181   8.186884\n",
       "5   SeasonalNaive_95  0.482431  10.925591\n",
       "6         AutoMLP_95  0.482091   9.098119\n",
       "7       AutoNHITS_95  0.479221   8.552409\n",
       "8        AutoLSTM_95  0.477825   8.385068\n",
       "9         AutoGRU_95  0.478768   6.903548\n",
       "10  SeasonalNaive_99  0.501240   8.399820\n",
       "11        AutoMLP_99  0.505439   5.219015\n",
       "12      AutoNHITS_99  0.500580   5.379732\n",
       "13       AutoLSTM_99  0.502851   5.200952\n",
       "14        AutoGRU_99  0.501416   4.123983"
      ]
     },
     "execution_count": 5,
     "metadata": {},
     "output_type": "execute_result"
    }
   ],
   "source": [
    "auc_logloss_df = pd.read_csv(auc_logloss_results)\n",
    "auc_logloss_df"
   ]
  },
  {
   "cell_type": "code",
   "execution_count": 4,
   "metadata": {},
   "outputs": [
    {
     "name": "stdout",
     "output_type": "stream",
     "text": [
      "ax\n",
      "ax\n"
     ]
    }
   ],
   "source": [
    "class A:\n",
    "    NAME_DEFAULT = \"a\"\n",
    "    NAME = NAME_DEFAULT\n",
    "\n",
    "    @classmethod\n",
    "    def load(cls, x):\n",
    "        x += 1\n",
    "        A.NAME = A.NAME_DEFAULT\n",
    "        A.NAME += \"x\"\n",
    "    \n",
    "\n",
    "aaa = A.load(3)\n",
    "print(A.NAME)\n",
    "aaaaa = A.load(5)\n",
    "print(A.NAME)\n",
    "\n"
   ]
  }
 ],
 "metadata": {
  "kernelspec": {
   "display_name": "investigacao",
   "language": "python",
   "name": "python3"
  },
  "language_info": {
   "codemirror_mode": {
    "name": "ipython",
    "version": 3
   },
   "file_extension": ".py",
   "mimetype": "text/x-python",
   "name": "python",
   "nbconvert_exporter": "python",
   "pygments_lexer": "ipython3",
   "version": "3.11.9"
  }
 },
 "nbformat": 4,
 "nbformat_minor": 2
}
