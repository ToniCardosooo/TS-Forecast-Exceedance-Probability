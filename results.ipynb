{
 "cells": [
  {
   "cell_type": "code",
   "execution_count": null,
   "metadata": {},
   "outputs": [
    {
     "ename": "",
     "evalue": "",
     "output_type": "error",
     "traceback": [
      "\u001b[1;31mRunning cells with 'investigacao (Python 3.11.9)' requires the ipykernel package.\n",
      "\u001b[1;31mRun the following command to install 'ipykernel' into the Python environment. \n",
      "\u001b[1;31mCommand: 'conda install -n investigacao ipykernel --update-deps --force-reinstall'"
     ]
    }
   ],
   "source": [
    "import pandas as pd\n",
    "import matplotlib.pyplot as plt"
   ]
  },
  {
   "cell_type": "code",
   "execution_count": null,
   "metadata": {},
   "outputs": [],
   "source": [
    "smape_df = pd.read_csv(\"empirical_analysis/M3_Monthly_95_MQLoss/smape_M3_95_MQLoss.csv\")\n",
    "\n",
    "models_names = list(smape_df.columns[1:])\n",
    "\n",
    "fig, ax = plt.subplots(1, len(models_names))\n",
    "\n",
    "for i, model_name in enumerate(models_names):\n",
    "    ax[i].boxplot(smape_df[model_name])\n",
    "plt.show()"
   ]
  },
  {
   "cell_type": "code",
   "execution_count": null,
   "metadata": {},
   "outputs": [],
   "source": [
    "auc_logloss_df = pd.read_csv(\"empirical_analysis/M3_Monthly_95_MQLoss/auc_logloss_M3_95_MQLoss.csv\")\n",
    "auc_logloss_df"
   ]
  }
 ],
 "metadata": {
  "kernelspec": {
   "display_name": "investigacao",
   "language": "python",
   "name": "python3"
  },
  "language_info": {
   "name": "python",
   "version": "3.11.9"
  }
 },
 "nbformat": 4,
 "nbformat_minor": 2
}
